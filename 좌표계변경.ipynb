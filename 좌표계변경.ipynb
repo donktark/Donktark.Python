{
 "cells": [
  {
   "cell_type": "markdown",
   "metadata": {},
   "source": [
    "# 중부원점좌표계를 위경도좌표계로 바꾸기\n",
    "\n",
    "코드 출처 : https://www.osgeo.kr/17"
   ]
  },
  {
   "cell_type": "code",
   "execution_count": null,
   "id": "5a66b90a",
   "metadata": {},
   "outputs": [],
   "source": [
    "import pandas as pd\n",
    "import numpy as np\n",
    "import pyproj\n",
    "from pyproj import Proj, transform"
   ]
  },
  {
   "cell_type": "code",
   "execution_count": null,
   "id": "f5c39c85",
   "metadata": {
    "scrolled": true
   },
   "outputs": [],
   "source": [
    "# 중부원점(Bessel): 서울 등 중부지역 EPSG:2097\n",
    "proj_1 = Proj(init='epsg:2097')\n",
    "# WGS84 경위도: GPS가 사용하는 좌표계 EPSG:4326\n",
    "proj_2 = Proj(init='epsg:4326')"
   ]
  },
  {
   "cell_type": "code",
   "execution_count": null,
   "id": "993bf264",
   "metadata": {
    "scrolled": true
   },
   "outputs": [],
   "source": [
    "df = pd.read_csv('영화관 좌표(중부원점).csv')\n",
    "df.head()"
   ]
  },
  {
   "cell_type": "code",
   "execution_count": null,
   "id": "502b5ba0",
   "metadata": {
    "scrolled": false
   },
   "outputs": [],
   "source": [
    "converted = transform(proj_1, proj_2, df['X'].values, df['Y'].values)\n",
    "df['Lon'] = converted[0]\n",
    "df['Lat'] = converted[1]"
   ]
  },
  {
   "cell_type": "code",
   "execution_count": null,
   "id": "47718ed5",
   "metadata": {},
   "outputs": [],
   "source": [
    "df.to_csv('영화관 좌표(위경도).csv',index = False)\n",
    "df"
   ]
  },
  {
   "cell_type": "markdown",
   "metadata": {},
   "source": [
    "쉽다!"
   ]
  }
 ],
 "metadata": {
  "kernelspec": {
   "display_name": "Python ('donktark')",
   "language": "python",
   "name": "python3"
  },
  "language_info": {
   "codemirror_mode": {
    "name": "ipython",
    "version": 3
   },
   "file_extension": ".py",
   "mimetype": "text/x-python",
   "name": "python",
   "nbconvert_exporter": "python",
   "pygments_lexer": "ipython3",
   "version": ""
  },
  "orig_nbformat": 4,
  "vscode": {
   "interpreter": {
    "hash": "25a19fbe0a9132dfb9279d48d161753c6352f8f9478c2e74383d340069b907c3"
   }
  }
 },
 "nbformat": 4,
 "nbformat_minor": 2
}
