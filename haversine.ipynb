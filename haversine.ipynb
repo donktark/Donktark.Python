{
 "cells": [
  {
   "cell_type": "markdown",
   "metadata": {},
   "source": [
    "# 좌표상에서 가장 가까운 요소 찾기 (Haver Sine 공식)\n",
    "예시 : 수도권 지하철역에서 가장 가까운 영화관과 거리(km)"
   ]
  },
  {
   "cell_type": "code",
   "execution_count": 5,
   "id": "215db9f5",
   "metadata": {},
   "outputs": [],
   "source": [
    "import pandas as pd\n",
    "import numpy as np\n",
    "from haversine import haversine\n",
    "import os"
   ]
  },
  {
   "cell_type": "code",
   "execution_count": 9,
   "metadata": {},
   "outputs": [],
   "source": [
    "os.chdir('../')"
   ]
  },
  {
   "cell_type": "code",
   "execution_count": 52,
   "id": "13e1d31e",
   "metadata": {},
   "outputs": [],
   "source": [
    "#지하철역 결측치 제거\n",
    "subway = pd.read_csv('haver sine/지하철 좌표(위경도).csv')\n",
    "subway.dropna(inplace=True)\n",
    "idx1 = subway[subway[['lat','lng']]=='inf'].index\n",
    "subway.drop(idx1, inplace=True)\n",
    "# subway = subway[['name', 'lat', 'lng']]\n",
    "\n",
    "#영화관 결측치 제거, 영업중인 영화관만 고르기\n",
    "theater = pd.read_csv('haver sine/영화관 좌표(위경도).csv')\n",
    "theater.dropna(inplace=True)\n",
    "theater = theater[theater['상세영업상태명']=='영업중']\n",
    "idx2 = theater[theater[['Lat','Lon']]!=int].index\n",
    "theater.drop(idx2, inplace=True)\n",
    "# theater = theater[['사업장명','Lat','Lon']]"
   ]
  },
  {
   "cell_type": "code",
   "execution_count": 53,
   "metadata": {},
   "outputs": [
    {
     "data": {
      "text/plain": [
       "Int64Index([  0,   1,   2,   3,   4,   5,   6,   7,   8,   9,\n",
       "            ...\n",
       "            720, 721, 722, 723, 724, 725, 726, 727, 728, 729],\n",
       "           dtype='int64', length=697)"
      ]
     },
     "execution_count": 53,
     "metadata": {},
     "output_type": "execute_result"
    }
   ],
   "source": [
    "idx1"
   ]
  },
  {
   "cell_type": "code",
   "execution_count": 42,
   "metadata": {},
   "outputs": [
    {
     "name": "stdout",
     "output_type": "stream",
     "text": [
      "------지하철역 좌표 데이터------\n",
      "Empty DataFrame\n",
      "Columns: [line, name, code, lat, lng]\n",
      "Index: []\n",
      "------영화관 좌표 데이터------\n",
      "Empty DataFrame\n",
      "Columns: [영업상태명, 상세영업상태명, 사업장명, X, Y, Lon, Lat]\n",
      "Index: []\n"
     ]
    }
   ],
   "source": [
    "print(\"------지하철역 좌표 데이터------\")\n",
    "print(subway.head())\n",
    "print(\"------영화관 좌표 데이터------\")\n",
    "print(theater.head())"
   ]
  },
  {
   "cell_type": "code",
   "execution_count": 27,
   "id": "f8223139",
   "metadata": {},
   "outputs": [
    {
     "ename": "ValueError",
     "evalue": "Latitude 127.042292 is out of range [-90, 90]",
     "output_type": "error",
     "traceback": [
      "\u001b[1;31m---------------------------------------------------------------------------\u001b[0m",
      "\u001b[1;31mValueError\u001b[0m                                Traceback (most recent call last)",
      "Cell \u001b[1;32mIn [27], line 10\u001b[0m\n\u001b[0;32m      8\u001b[0m \u001b[38;5;28;01mfor\u001b[39;00m j \u001b[38;5;129;01min\u001b[39;00m \u001b[38;5;28mrange\u001b[39m(\u001b[38;5;241m0\u001b[39m, \u001b[38;5;28mlen\u001b[39m(theater)):\n\u001b[0;32m      9\u001b[0m     theater_xy \u001b[38;5;241m=\u001b[39m (theater[\u001b[38;5;124m\"\u001b[39m\u001b[38;5;124mLon\u001b[39m\u001b[38;5;124m\"\u001b[39m][j], theater[\u001b[38;5;124m\"\u001b[39m\u001b[38;5;124mLat\u001b[39m\u001b[38;5;124m\"\u001b[39m][j])\n\u001b[1;32m---> 10\u001b[0m     distance \u001b[38;5;241m=\u001b[39m \u001b[43mhaversine\u001b[49m\u001b[43m(\u001b[49m\u001b[43msubway_xy\u001b[49m\u001b[43m,\u001b[49m\u001b[43m \u001b[49m\u001b[43mtheater_xy\u001b[49m\u001b[43m,\u001b[49m\u001b[43m \u001b[49m\u001b[38;5;124;43m'\u001b[39;49m\u001b[38;5;124;43mkm\u001b[39;49m\u001b[38;5;124;43m'\u001b[39;49m\u001b[43m)\u001b[49m\n\u001b[0;32m     11\u001b[0m     \u001b[38;5;28;01mif\u001b[39;00m distance \u001b[38;5;241m<\u001b[39m min_distance:\n\u001b[0;32m     12\u001b[0m         min_distance \u001b[38;5;241m=\u001b[39m distance\n",
      "File \u001b[1;32m~\\AppData\\Local\\Programs\\Python\\Python39\\lib\\site-packages\\haversine\\haversine.py:119\u001b[0m, in \u001b[0;36mhaversine\u001b[1;34m(point1, point2, unit, normalize)\u001b[0m\n\u001b[0;32m    117\u001b[0m     lat2, lng2 \u001b[39m=\u001b[39m _normalize(lat2, lng2)\n\u001b[0;32m    118\u001b[0m \u001b[39melse\u001b[39;00m:\n\u001b[1;32m--> 119\u001b[0m     _ensure_lat_lon(lat1, lng1)\n\u001b[0;32m    120\u001b[0m     _ensure_lat_lon(lat2, lng2)\n\u001b[0;32m    122\u001b[0m \u001b[39m# convert all latitudes/longitudes from decimal degrees to radians\u001b[39;00m\n",
      "File \u001b[1;32m~\\AppData\\Local\\Programs\\Python\\Python39\\lib\\site-packages\\haversine\\haversine.py:80\u001b[0m, in \u001b[0;36m_ensure_lat_lon\u001b[1;34m(lat, lon)\u001b[0m\n\u001b[0;32m     76\u001b[0m \u001b[39m\"\"\"\u001b[39;00m\n\u001b[0;32m     77\u001b[0m \u001b[39mEnsure that the given latitude and longitude have proper values. An exception is raised if they are not.\u001b[39;00m\n\u001b[0;32m     78\u001b[0m \u001b[39m\"\"\"\u001b[39;00m\n\u001b[0;32m     79\u001b[0m \u001b[39mif\u001b[39;00m lat \u001b[39m<\u001b[39m \u001b[39m-\u001b[39m\u001b[39m90\u001b[39m \u001b[39mor\u001b[39;00m lat \u001b[39m>\u001b[39m \u001b[39m90\u001b[39m:\n\u001b[1;32m---> 80\u001b[0m     \u001b[39mraise\u001b[39;00m \u001b[39mValueError\u001b[39;00m(\u001b[39mf\u001b[39m\u001b[39m\"\u001b[39m\u001b[39mLatitude \u001b[39m\u001b[39m{\u001b[39;00mlat\u001b[39m}\u001b[39;00m\u001b[39m is out of range [-90, 90]\u001b[39m\u001b[39m\"\u001b[39m)\n\u001b[0;32m     81\u001b[0m \u001b[39mif\u001b[39;00m lon \u001b[39m<\u001b[39m \u001b[39m-\u001b[39m\u001b[39m180\u001b[39m \u001b[39mor\u001b[39;00m lon \u001b[39m>\u001b[39m \u001b[39m180\u001b[39m:\n\u001b[0;32m     82\u001b[0m     \u001b[39mraise\u001b[39;00m \u001b[39mValueError\u001b[39;00m(\u001b[39mf\u001b[39m\u001b[39m\"\u001b[39m\u001b[39mLongitude \u001b[39m\u001b[39m{\u001b[39;00mlon\u001b[39m}\u001b[39;00m\u001b[39m is out of range [-180, 180]\u001b[39m\u001b[39m\"\u001b[39m)\n",
      "\u001b[1;31mValueError\u001b[0m: Latitude 127.042292 is out of range [-90, 90]"
     ]
    }
   ],
   "source": [
    "#하버사인 거리 계산_버스정류장\n",
    "subway_name = []\n",
    "theater_name = []\n",
    "between_dist = []\n",
    "for i in range(0, len(subway)):\n",
    "    min_distance = 100\n",
    "    subway_xy = (subway[\"lng\"][i], subway[\"lat\"][i])\n",
    "    for j in range(0, len(theater)):\n",
    "        theater_xy = (theater[\"Lon\"][j], theater[\"Lat\"][j])\n",
    "        distance = haversine(subway_xy, theater_xy, 'km')\n",
    "        if distance < min_distance:\n",
    "            min_distance = distance\n",
    "            near_subway = subway['name'][i]\n",
    "            near_theater = theater['사업장명'][j]\n",
    "    print(near_subway)\n",
    "    print(near_theater)\n",
    "    print(min_distance)\n",
    "    subway_name.append(near_subway)\n",
    "    theater_name.append(near_theater)\n",
    "    between_dist.append(min_distance)"
   ]
  },
  {
   "cell_type": "code",
   "execution_count": null,
   "id": "5a293d3d",
   "metadata": {},
   "outputs": [],
   "source": [
    "bustop_dis = np.column_stack((near_aparts,near_theaters, near_distances))\n",
    "bustop_dis2 = pd.DataFrame(bustop_dis)\n",
    "bustop_dis2\n",
    "bustop_dis2.to_csv('C:/Users/32197453/Desktop/비교과/2022 데이터 청년 캠퍼스/팀프로젝트/아파트_버스정류장_거리(코드).csv',index = False, encoding = \"cp949\")"
   ]
  }
 ],
 "metadata": {
  "kernelspec": {
   "display_name": "Python ('donktark')",
   "language": "python",
   "name": "python3"
  },
  "language_info": {
   "codemirror_mode": {
    "name": "ipython",
    "version": 3
   },
   "file_extension": ".py",
   "mimetype": "text/x-python",
   "name": "python",
   "nbconvert_exporter": "python",
   "pygments_lexer": "ipython3",
   "version": ""
  },
  "orig_nbformat": 4,
  "vscode": {
   "interpreter": {
    "hash": "25a19fbe0a9132dfb9279d48d161753c6352f8f9478c2e74383d340069b907c3"
   }
  }
 },
 "nbformat": 4,
 "nbformat_minor": 2
}
